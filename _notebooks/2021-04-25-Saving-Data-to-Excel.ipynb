{
 "cells": [
  {
   "cell_type": "markdown",
   "metadata": {},
   "source": [
    "# Saving data to excel\n",
    "- categories: [Python, pandas, openpyxl, excel]\n",
    "\n",
    "Perviously (Data Extraction with Python <a href='https://tikuischan.github.io/fastpages_blog/python/dataextraction/pandas/excel/2021/04/04/Data-Extraction-with-Python-Part2.html'>part 2</a> and <a href='https://tikuischan.github.io/fastpages_blog/python/dataextraction/openpyxl/excel/2021/04/16/Data-Extraction-with-Python-Part3.html'>part 3</a>) we've learnt how to extract data from excel files. Sometimes it is easier for our client (especially when they are not familiar to programming) to check the data if we provide it in excel form. The simpliest way to do it is using <a href='https://pandas.pydata.org/docs/reference/api/pandas.DataFrame.to_excel.html'>DataFrame().to_excel</a> function in pandas. "
   ]
  },
  {
   "cell_type": "code",
   "execution_count": 1,
   "metadata": {},
   "outputs": [
    {
     "data": {
      "text/html": [
       "<div>\n",
       "<style scoped>\n",
       "    .dataframe tbody tr th:only-of-type {\n",
       "        vertical-align: middle;\n",
       "    }\n",
       "\n",
       "    .dataframe tbody tr th {\n",
       "        vertical-align: top;\n",
       "    }\n",
       "\n",
       "    .dataframe thead th {\n",
       "        text-align: right;\n",
       "    }\n",
       "</style>\n",
       "<table border=\"1\" class=\"dataframe\">\n",
       "  <thead>\n",
       "    <tr style=\"text-align: right;\">\n",
       "      <th></th>\n",
       "      <th>col_1</th>\n",
       "      <th>col_2</th>\n",
       "      <th>col_3</th>\n",
       "    </tr>\n",
       "  </thead>\n",
       "  <tbody>\n",
       "    <tr>\n",
       "      <th>0</th>\n",
       "      <td>1</td>\n",
       "      <td>a</td>\n",
       "      <td>4</td>\n",
       "    </tr>\n",
       "    <tr>\n",
       "      <th>1</th>\n",
       "      <td>2</td>\n",
       "      <td>b</td>\n",
       "      <td>5</td>\n",
       "    </tr>\n",
       "    <tr>\n",
       "      <th>2</th>\n",
       "      <td>3</td>\n",
       "      <td>c</td>\n",
       "      <td>6</td>\n",
       "    </tr>\n",
       "  </tbody>\n",
       "</table>\n",
       "</div>"
      ],
      "text/plain": [
       "   col_1 col_2  col_3\n",
       "0      1     a      4\n",
       "1      2     b      5\n",
       "2      3     c      6"
      ]
     },
     "execution_count": 1,
     "metadata": {},
     "output_type": "execute_result"
    }
   ],
   "source": [
    "import pandas as pd\n",
    "\n",
    "\n",
    "sample_data = {'col_1': [1, 2, 3], 'col_2': ['a', 'b', 'c'], 'col_3': [4, 5, 6]}\n",
    "sample_df = pd.DataFrame(sample_data)\n",
    "sample_df"
   ]
  },
  {
   "cell_type": "code",
   "execution_count": null,
   "metadata": {},
   "outputs": [],
   "source": [
    "# simply input file name and we can find the file in the same folder of the python file\n",
    "sample_df.to_excel('sample_df.xlsx', engine='openpyxl')\n",
    "\n",
    "# we can also put path-like format to save the excel file in specific folder\n",
    "sample_df.to_excel('home/target_folder/sample_df.xlsx')"
   ]
  },
  {
   "cell_type": "markdown",
   "metadata": {},
   "source": [
    "In pratice sometimes things get a bit more complicated. For example there are mulitple tables we need to put in a single excel, or for whatever reason we need to export data in batch, and we want to put all data in a single file, then we need a bit extra work.\n",
    "\n",
    "For assigning sheet name, we can simply use the parameter sheet_name."
   ]
  },
  {
   "cell_type": "code",
   "execution_count": 2,
   "metadata": {},
   "outputs": [
    {
     "data": {
      "text/html": [
       "<div>\n",
       "<style scoped>\n",
       "    .dataframe tbody tr th:only-of-type {\n",
       "        vertical-align: middle;\n",
       "    }\n",
       "\n",
       "    .dataframe tbody tr th {\n",
       "        vertical-align: top;\n",
       "    }\n",
       "\n",
       "    .dataframe thead th {\n",
       "        text-align: right;\n",
       "    }\n",
       "</style>\n",
       "<table border=\"1\" class=\"dataframe\">\n",
       "  <thead>\n",
       "    <tr style=\"text-align: right;\">\n",
       "      <th></th>\n",
       "      <th>Unnamed: 0</th>\n",
       "      <th>col_1</th>\n",
       "      <th>col_2</th>\n",
       "      <th>col_3</th>\n",
       "    </tr>\n",
       "  </thead>\n",
       "  <tbody>\n",
       "    <tr>\n",
       "      <th>0</th>\n",
       "      <td>0</td>\n",
       "      <td>1</td>\n",
       "      <td>a</td>\n",
       "      <td>4</td>\n",
       "    </tr>\n",
       "    <tr>\n",
       "      <th>1</th>\n",
       "      <td>1</td>\n",
       "      <td>2</td>\n",
       "      <td>b</td>\n",
       "      <td>5</td>\n",
       "    </tr>\n",
       "    <tr>\n",
       "      <th>2</th>\n",
       "      <td>2</td>\n",
       "      <td>3</td>\n",
       "      <td>c</td>\n",
       "      <td>6</td>\n",
       "    </tr>\n",
       "  </tbody>\n",
       "</table>\n",
       "</div>"
      ],
      "text/plain": [
       "   Unnamed: 0  col_1 col_2  col_3\n",
       "0           0      1     a      4\n",
       "1           1      2     b      5\n",
       "2           2      3     c      6"
      ]
     },
     "execution_count": 2,
     "metadata": {},
     "output_type": "execute_result"
    }
   ],
   "source": [
    "sample_df.to_excel('sample_df.xlsx', sheet_name='sample_df')\n",
    "sample_df.to_excel('sample_df.xlsx', sheet_name='sample_df2')\n",
    "pd.read_excel('sample_df.xlsx')"
   ]
  },
  {
   "cell_type": "markdown",
   "metadata": {},
   "source": [
    "But as we can see in the output file, there is only one sheet named \"sample_df2\" in the excel file, pandas will create a new file and remove the file with the same name in this case. To tell pandas to write both sheets in the same file, we can use a ExcelWriter object to lock on a single file, and pass to to_excel to write on the same file."
   ]
  },
  {
   "cell_type": "code",
   "execution_count": 3,
   "metadata": {},
   "outputs": [],
   "source": [
    "writer = pd.ExcelWriter('sample_df.xlsx')\n",
    "sample_df.to_excel(writer, sheet_name='sample_df')\n",
    "sample_df.to_excel(writer, sheet_name='sample_df2')\n",
    "writer.save()"
   ]
  },
  {
   "cell_type": "markdown",
   "metadata": {},
   "source": [
    "If the file is already exist, we can add \"mode='a'\" to avoid losing all the existing data."
   ]
  },
  {
   "cell_type": "code",
   "execution_count": 4,
   "metadata": {},
   "outputs": [],
   "source": [
    "writer = pd.ExcelWriter('sample_df.xlsx', mode='a')\n",
    "sample_df.to_excel(writer, sheet_name='sample_df3')\n",
    "sample_df.to_excel(writer, sheet_name='sample_df4')\n",
    "writer.save()"
   ]
  },
  {
   "cell_type": "markdown",
   "metadata": {},
   "source": [
    "What if we have multiple tables with the same columns and want to concatenate them into same file? There are two ways to do that, the simple way is to combine the tables before write to excel; and the other is to get the maximum row number of the sheet using load_workbook of openpyxl, and feed to \"start_row\" of \"to_excel\"."
   ]
  },
  {
   "cell_type": "code",
   "execution_count": 5,
   "metadata": {},
   "outputs": [
    {
     "name": "stdout",
     "output_type": "stream",
     "text": [
      "the last row in sample_df is 4\n"
     ]
    },
    {
     "data": {
      "text/html": [
       "<div>\n",
       "<style scoped>\n",
       "    .dataframe tbody tr th:only-of-type {\n",
       "        vertical-align: middle;\n",
       "    }\n",
       "\n",
       "    .dataframe tbody tr th {\n",
       "        vertical-align: top;\n",
       "    }\n",
       "\n",
       "    .dataframe thead th {\n",
       "        text-align: right;\n",
       "    }\n",
       "</style>\n",
       "<table border=\"1\" class=\"dataframe\">\n",
       "  <thead>\n",
       "    <tr style=\"text-align: right;\">\n",
       "      <th></th>\n",
       "      <th>Unnamed: 0</th>\n",
       "      <th>col_1</th>\n",
       "      <th>col_2</th>\n",
       "      <th>col_3</th>\n",
       "    </tr>\n",
       "  </thead>\n",
       "  <tbody>\n",
       "    <tr>\n",
       "      <th>0</th>\n",
       "      <td>0.0</td>\n",
       "      <td>1</td>\n",
       "      <td>a</td>\n",
       "      <td>4</td>\n",
       "    </tr>\n",
       "    <tr>\n",
       "      <th>1</th>\n",
       "      <td>1.0</td>\n",
       "      <td>2</td>\n",
       "      <td>b</td>\n",
       "      <td>5</td>\n",
       "    </tr>\n",
       "    <tr>\n",
       "      <th>2</th>\n",
       "      <td>2.0</td>\n",
       "      <td>3</td>\n",
       "      <td>c</td>\n",
       "      <td>6</td>\n",
       "    </tr>\n",
       "    <tr>\n",
       "      <th>3</th>\n",
       "      <td>NaN</td>\n",
       "      <td>col_1</td>\n",
       "      <td>col_2</td>\n",
       "      <td>col_3</td>\n",
       "    </tr>\n",
       "    <tr>\n",
       "      <th>4</th>\n",
       "      <td>0.0</td>\n",
       "      <td>1</td>\n",
       "      <td>a</td>\n",
       "      <td>4</td>\n",
       "    </tr>\n",
       "    <tr>\n",
       "      <th>5</th>\n",
       "      <td>1.0</td>\n",
       "      <td>2</td>\n",
       "      <td>b</td>\n",
       "      <td>5</td>\n",
       "    </tr>\n",
       "    <tr>\n",
       "      <th>6</th>\n",
       "      <td>2.0</td>\n",
       "      <td>3</td>\n",
       "      <td>c</td>\n",
       "      <td>6</td>\n",
       "    </tr>\n",
       "  </tbody>\n",
       "</table>\n",
       "</div>"
      ],
      "text/plain": [
       "   Unnamed: 0  col_1  col_2  col_3\n",
       "0         0.0      1      a      4\n",
       "1         1.0      2      b      5\n",
       "2         2.0      3      c      6\n",
       "3         NaN  col_1  col_2  col_3\n",
       "4         0.0      1      a      4\n",
       "5         1.0      2      b      5\n",
       "6         2.0      3      c      6"
      ]
     },
     "execution_count": 5,
     "metadata": {},
     "output_type": "execute_result"
    }
   ],
   "source": [
    "from openpyxl import load_workbook\n",
    "\n",
    "\n",
    "table = 'sample_df'\n",
    "writer = pd.ExcelWriter('sample_df.xlsx', mode='a')\n",
    "startrow = 0\n",
    "\n",
    "# try to open an existing workbook\n",
    "writer.book = load_workbook('sample_df.xlsx')\n",
    "\n",
    "# get the last row in the existing Excel sheet\n",
    "if startrow == 0 and table in writer.book.sheetnames:\n",
    "    # the last row with data is recorded in max_row\n",
    "    startrow = writer.book[table].max_row\n",
    "    print(f'the last row in {table} is {startrow}')\n",
    "\n",
    "writer.sheets = {ws.title: ws for ws in writer.book.worksheets}\n",
    "sample_df.to_excel(writer, sheet_name=table, startrow=startrow)\n",
    "writer.save()\n",
    "\n",
    "pd.read_excel('sample_df.xlsx')"
   ]
  },
  {
   "cell_type": "markdown",
   "metadata": {},
   "source": [
    "Now we have successfully append data after the last row, the only problem is the script above will also include the column name as a row and get rid of the meaningless \"Unnamed: 0\" column. we can simply use the \"header\" and \"index\" parameters to achieve them."
   ]
  },
  {
   "cell_type": "code",
   "execution_count": 6,
   "metadata": {},
   "outputs": [
    {
     "name": "stdout",
     "output_type": "stream",
     "text": [
      "the last row in sample_df is 8\n"
     ]
    },
    {
     "data": {
      "text/html": [
       "<div>\n",
       "<style scoped>\n",
       "    .dataframe tbody tr th:only-of-type {\n",
       "        vertical-align: middle;\n",
       "    }\n",
       "\n",
       "    .dataframe tbody tr th {\n",
       "        vertical-align: top;\n",
       "    }\n",
       "\n",
       "    .dataframe thead th {\n",
       "        text-align: right;\n",
       "    }\n",
       "</style>\n",
       "<table border=\"1\" class=\"dataframe\">\n",
       "  <thead>\n",
       "    <tr style=\"text-align: right;\">\n",
       "      <th></th>\n",
       "      <th>Unnamed: 0</th>\n",
       "      <th>col_1</th>\n",
       "      <th>col_2</th>\n",
       "      <th>col_3</th>\n",
       "    </tr>\n",
       "  </thead>\n",
       "  <tbody>\n",
       "    <tr>\n",
       "      <th>0</th>\n",
       "      <td>0.0</td>\n",
       "      <td>1</td>\n",
       "      <td>a</td>\n",
       "      <td>4</td>\n",
       "    </tr>\n",
       "    <tr>\n",
       "      <th>1</th>\n",
       "      <td>1.0</td>\n",
       "      <td>2</td>\n",
       "      <td>b</td>\n",
       "      <td>5</td>\n",
       "    </tr>\n",
       "    <tr>\n",
       "      <th>2</th>\n",
       "      <td>2.0</td>\n",
       "      <td>3</td>\n",
       "      <td>c</td>\n",
       "      <td>6</td>\n",
       "    </tr>\n",
       "    <tr>\n",
       "      <th>3</th>\n",
       "      <td>NaN</td>\n",
       "      <td>col_1</td>\n",
       "      <td>col_2</td>\n",
       "      <td>col_3</td>\n",
       "    </tr>\n",
       "    <tr>\n",
       "      <th>4</th>\n",
       "      <td>0.0</td>\n",
       "      <td>1</td>\n",
       "      <td>a</td>\n",
       "      <td>4</td>\n",
       "    </tr>\n",
       "    <tr>\n",
       "      <th>5</th>\n",
       "      <td>1.0</td>\n",
       "      <td>2</td>\n",
       "      <td>b</td>\n",
       "      <td>5</td>\n",
       "    </tr>\n",
       "    <tr>\n",
       "      <th>6</th>\n",
       "      <td>2.0</td>\n",
       "      <td>3</td>\n",
       "      <td>c</td>\n",
       "      <td>6</td>\n",
       "    </tr>\n",
       "    <tr>\n",
       "      <th>7</th>\n",
       "      <td>0.0</td>\n",
       "      <td>1</td>\n",
       "      <td>a</td>\n",
       "      <td>4</td>\n",
       "    </tr>\n",
       "    <tr>\n",
       "      <th>8</th>\n",
       "      <td>1.0</td>\n",
       "      <td>2</td>\n",
       "      <td>b</td>\n",
       "      <td>5</td>\n",
       "    </tr>\n",
       "    <tr>\n",
       "      <th>9</th>\n",
       "      <td>2.0</td>\n",
       "      <td>3</td>\n",
       "      <td>c</td>\n",
       "      <td>6</td>\n",
       "    </tr>\n",
       "  </tbody>\n",
       "</table>\n",
       "</div>"
      ],
      "text/plain": [
       "   Unnamed: 0  col_1  col_2  col_3\n",
       "0         0.0      1      a      4\n",
       "1         1.0      2      b      5\n",
       "2         2.0      3      c      6\n",
       "3         NaN  col_1  col_2  col_3\n",
       "4         0.0      1      a      4\n",
       "5         1.0      2      b      5\n",
       "6         2.0      3      c      6\n",
       "7         0.0      1      a      4\n",
       "8         1.0      2      b      5\n",
       "9         2.0      3      c      6"
      ]
     },
     "execution_count": 6,
     "metadata": {},
     "output_type": "execute_result"
    }
   ],
   "source": [
    "table = 'sample_df'\n",
    "writer = pd.ExcelWriter('sample_df.xlsx', mode='a')\n",
    "startrow = 0\n",
    "header = True\n",
    "\n",
    "# try to open an existing workbook\n",
    "writer.book = load_workbook('sample_df.xlsx')\n",
    "\n",
    "# get the last row in the existing Excel sheet\n",
    "if startrow == 0 and table in writer.book.sheetnames:\n",
    "    # the last row with data is recorded in max_row\n",
    "    startrow = writer.book[table].max_row\n",
    "    print(f'the last row in {table} is {startrow}')\n",
    "\n",
    "if startrow > 0:\n",
    "    header = False\n",
    "\n",
    "# copy existing sheets \n",
    "writer.sheets = {ws.title: ws for ws in writer.book.worksheets}\n",
    "sample_df.to_excel(writer, sheet_name=table, startrow=startrow, header=header)\n",
    "writer.save()\n",
    "\n",
    "pd.read_excel('sample_df.xlsx')"
   ]
  },
  {
   "cell_type": "code",
   "execution_count": 8,
   "metadata": {},
   "outputs": [
    {
     "data": {
      "text/html": [
       "<div>\n",
       "<style scoped>\n",
       "    .dataframe tbody tr th:only-of-type {\n",
       "        vertical-align: middle;\n",
       "    }\n",
       "\n",
       "    .dataframe tbody tr th {\n",
       "        vertical-align: top;\n",
       "    }\n",
       "\n",
       "    .dataframe thead th {\n",
       "        text-align: right;\n",
       "    }\n",
       "</style>\n",
       "<table border=\"1\" class=\"dataframe\">\n",
       "  <thead>\n",
       "    <tr style=\"text-align: right;\">\n",
       "      <th></th>\n",
       "      <th>col_1</th>\n",
       "      <th>col_2</th>\n",
       "      <th>col_3</th>\n",
       "    </tr>\n",
       "  </thead>\n",
       "  <tbody>\n",
       "    <tr>\n",
       "      <th>0</th>\n",
       "      <td>1</td>\n",
       "      <td>a</td>\n",
       "      <td>4</td>\n",
       "    </tr>\n",
       "    <tr>\n",
       "      <th>1</th>\n",
       "      <td>2</td>\n",
       "      <td>b</td>\n",
       "      <td>5</td>\n",
       "    </tr>\n",
       "    <tr>\n",
       "      <th>2</th>\n",
       "      <td>3</td>\n",
       "      <td>c</td>\n",
       "      <td>6</td>\n",
       "    </tr>\n",
       "  </tbody>\n",
       "</table>\n",
       "</div>"
      ],
      "text/plain": [
       "   col_1 col_2  col_3\n",
       "0      1     a      4\n",
       "1      2     b      5\n",
       "2      3     c      6"
      ]
     },
     "execution_count": 8,
     "metadata": {},
     "output_type": "execute_result"
    }
   ],
   "source": [
    "sample_df.to_excel('sample_df2.xlsx', sheet_name='sample_df', index=False)\n",
    "pd.read_excel('sample_df2.xlsx')"
   ]
  },
  {
   "cell_type": "markdown",
   "metadata": {},
   "source": [
    "Combine everything together, we can write a simple function like that:"
   ]
  },
  {
   "cell_type": "code",
   "execution_count": 23,
   "metadata": {},
   "outputs": [],
   "source": [
    "import os\n",
    "\n",
    "\n",
    "# assume the data are in dict form: {table_name1: DataFrame1, ...}\n",
    "def export2excel(dict_form_data, file_path):\n",
    "    if os.path.exists(file_path):\n",
    "        load_wb = True\n",
    "        writer = pd.ExcelWriter(file_path, mode='a')\n",
    "    else:\n",
    "        load_wb = False\n",
    "        writer = pd.ExcelWriter(file_path)\n",
    "        \n",
    "    # for loop in dict loop through the keys\n",
    "    for table in dict_form_data:\n",
    "        startrow = 0\n",
    "        header = True\n",
    "        if load_wb:\n",
    "            try:\n",
    "                # try to open an existing workbook\n",
    "                writer.book = load_workbook(file_path)\n",
    "\n",
    "                # get the last row in the existing Excel sheet\n",
    "                if startrow == 0 and table in writer.book.sheetnames:\n",
    "                    startrow = writer.book[table].max_row\n",
    "\n",
    "                writer.sheets = {ws.title: ws for ws in writer.book.worksheets}\n",
    "            except FileNotFoundError:\n",
    "                pass\n",
    "        \n",
    "        if startrow > 0:\n",
    "            header = False\n",
    "\n",
    "        dict_form_data[table].to_excel(writer, sheet_name=table, startrow=startrow, index=False, header=header)\n",
    "        writer.save()\n",
    "    print(f'finish exploting to {file_path}')\n",
    "    return"
   ]
  },
  {
   "cell_type": "markdown",
   "metadata": {},
   "source": [
    "The function will create a new file if \"file_path\" not exist."
   ]
  },
  {
   "cell_type": "code",
   "execution_count": 25,
   "metadata": {},
   "outputs": [
    {
     "name": "stdout",
     "output_type": "stream",
     "text": [
      "finish exploting to final_sample.xlsx\n"
     ]
    }
   ],
   "source": [
    "data = {'sample_sheet_1': sample_df, 'sample_sheet_2': sample_df, 'sample_sheet_3': sample_df}\n",
    "export2excel(data, 'final_sample.xlsx')"
   ]
  },
  {
   "cell_type": "markdown",
   "metadata": {},
   "source": [
    "Run again and now we can see the function actually append data to corresponding sheets."
   ]
  },
  {
   "cell_type": "code",
   "execution_count": 26,
   "metadata": {},
   "outputs": [
    {
     "name": "stdout",
     "output_type": "stream",
     "text": [
      "finish exploting to final_sample.xlsx\n"
     ]
    }
   ],
   "source": [
    "export2excel(data, 'final_sample.xlsx')"
   ]
  },
  {
   "cell_type": "markdown",
   "metadata": {},
   "source": [
    "For a more complete function, here is a reference from <a href='https://stackoverflow.com/questions/38074678/append-existing-excel-sheet-with-new-dataframe-using-python-pandas'>stack overflow</a>"
   ]
  }
 ],
 "metadata": {
  "kernelspec": {
   "display_name": "myenv",
   "language": "python",
   "name": "myenv"
  },
  "language_info": {
   "codemirror_mode": {
    "name": "ipython",
    "version": 3
   },
   "file_extension": ".py",
   "mimetype": "text/x-python",
   "name": "python",
   "nbconvert_exporter": "python",
   "pygments_lexer": "ipython3",
   "version": "3.7.9"
  }
 },
 "nbformat": 4,
 "nbformat_minor": 4
}
