{
 "cells": [
  {
   "cell_type": "markdown",
   "metadata": {},
   "source": [
    "# List Comprehension\n",
    "- categories: [Python]"
   ]
  },
  {
   "cell_type": "markdown",
   "metadata": {},
   "source": [
    "1. why and when we want to use it\n",
    "2. how to use it\n",
    "3. some examples"
   ]
  },
  {
   "cell_type": "code",
   "execution_count": null,
   "metadata": {},
   "outputs": [],
   "source": []
  },
  {
   "cell_type": "code",
   "execution_count": null,
   "metadata": {},
   "outputs": [],
   "source": []
  },
  {
   "cell_type": "markdown",
   "metadata": {},
   "source": [
    "In this blog we will be looking at a very convinence syntex in python - list comprehension. \n",
    "\n",
    "To begin with, the basic form of Python list comprehension look like this:"
   ]
  },
  {
   "cell_type": "code",
   "execution_count": 2,
   "metadata": {},
   "outputs": [
    {
     "name": "stdout",
     "output_type": "stream",
     "text": [
      "[0, 1, 2, 3, 4, 5, 6, 7, 8, 9]\n"
     ]
    }
   ],
   "source": [
    "list_comp = [x for x in range(10)]\n",
    "print(list_comp)"
   ]
  },
  {
   "cell_type": "markdown",
   "metadata": {},
   "source": [
    "it is basically equal to a for loop, and put everything in a list"
   ]
  },
  {
   "cell_type": "code",
   "execution_count": 4,
   "metadata": {},
   "outputs": [
    {
     "name": "stdout",
     "output_type": "stream",
     "text": [
      "[0, 1, 2, 3, 4, 5, 6, 7, 8, 9]\n"
     ]
    }
   ],
   "source": [
    "list_comp = []\n",
    "\n",
    "for i in range(10):\n",
    "    list_comp.append(i)\n",
    "    \n",
    "print(list_comp)"
   ]
  },
  {
   "cell_type": "markdown",
   "metadata": {},
   "source": [
    "Up to now you may already notice, list comprehension is basically a simplified for loop.  \n",
    "Sometime you may want to add a if statment in a for loop:"
   ]
  },
  {
   "cell_type": "code",
   "execution_count": 8,
   "metadata": {},
   "outputs": [
    {
     "name": "stdout",
     "output_type": "stream",
     "text": [
      "[0, 2, 4, 6, 8]\n"
     ]
    }
   ],
   "source": [
    "output = []\n",
    "# assume we want to get a list of even number using for loop\n",
    "for i in range(10):\n",
    "    if i % 2 == 0:\n",
    "        output.append(i)\n",
    "        \n",
    "print(output)"
   ]
  },
  {
   "cell_type": "markdown",
   "metadata": {},
   "source": [
    "well...surely you can do it in a cleverer way without a IF statement..."
   ]
  },
  {
   "cell_type": "code",
   "execution_count": 9,
   "metadata": {},
   "outputs": [
    {
     "name": "stdout",
     "output_type": "stream",
     "text": [
      "[0, 2, 4, 6, 8]\n"
     ]
    }
   ],
   "source": [
    "#collapse\n",
    "output = []\n",
    "for i in range(0, 10, 2):\n",
    "    output.append(i)\n",
    "    \n",
    "print(output)"
   ]
  },
  {
   "cell_type": "markdown",
   "metadata": {},
   "source": [
    "with list comprehension, you can do it in a single line:"
   ]
  },
  {
   "cell_type": "code",
   "execution_count": 10,
   "metadata": {},
   "outputs": [
    {
     "name": "stdout",
     "output_type": "stream",
     "text": [
      "[0, 2, 4, 6, 8]\n",
      "[0, 2, 4, 6, 8]\n"
     ]
    }
   ],
   "source": [
    "output = [x for x in range(10) if x % 2 == 0]\n",
    "print(output)\n",
    "output = [x for x in range(0, 10, 2)]\n",
    "print(output)"
   ]
  },
  {
   "cell_type": "markdown",
   "metadata": {},
   "source": [
    "So yes, we can add conditional statments if needed, here are some more examples:"
   ]
  },
  {
   "cell_type": "code",
   "execution_count": 16,
   "metadata": {},
   "outputs": [
    {
     "name": "stdout",
     "output_type": "stream",
     "text": [
      "[1, 2, 3, 4, 5, 6, 7, 8, 9]\n",
      "[{'name': 'john'}, {'name': 'peter'}, {'name': 'mary'}]\n",
      "[{'name': 'john', 'age': '10'}, {'name': 'foo', 'age': '24'}, {'name': 'may', 'age': '18'}]\n"
     ]
    }
   ],
   "source": [
    "# assume we'd like to flatten a list of inputs\n",
    "data_in = [[1, 2, 3, 4], [5, 6], [7, 8], [9]]\n",
    "data_flat = [y for x in data_in for y in x]\n",
    "print(data_flat)\n",
    "\n",
    "# maybe our task is to grep all dict with attr 'name'\n",
    "data_in = [{'name': 'john'}, {'name': 'peter'}, {'person': 'sk'}, {'name': 'mary'}, {'phone': '12364586225567'}]\n",
    "data_out = [x for x in data_in if x.get('name')]\n",
    "print(data_out)\n",
    "\n",
    "# we can even generate a dict using list comprehension (or dict comprehension)\n",
    "keys = ['name', 'age']\n",
    "values = [['john', '10'], ['foo', '24'], ['may', '18']]\n",
    "data_out = [{k: v for k, v in zip(keys, var)} for var in values]\n",
    "print(data_out)"
   ]
  },
  {
   "cell_type": "markdown",
   "metadata": {},
   "source": [
    "as you can see in the above examples, list comprehension can also do multiple loops to handle / generate complicatied structure. Although it is extremely useful, try not to make a single line tooooo long such that others (or even yourselves!) can not read. "
   ]
  }
 ],
 "metadata": {
  "kernelspec": {
   "display_name": "Python 3",
   "language": "python",
   "name": "python3"
  },
  "language_info": {
   "codemirror_mode": {
    "name": "ipython",
    "version": 3
   },
   "file_extension": ".py",
   "mimetype": "text/x-python",
   "name": "python",
   "nbconvert_exporter": "python",
   "pygments_lexer": "ipython3",
   "version": "3.7.9"
  }
 },
 "nbformat": 4,
 "nbformat_minor": 4
}
