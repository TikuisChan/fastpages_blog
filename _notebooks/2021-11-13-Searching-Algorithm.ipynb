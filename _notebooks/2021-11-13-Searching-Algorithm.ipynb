{
 "cells": [
  {
   "cell_type": "markdown",
   "metadata": {},
   "source": [
    "# Searching Algorithm\n",
    "- categories: [Python, SearchingAlgorithm]"
   ]
  },
  {
   "cell_type": "code",
   "execution_count": 1,
   "metadata": {},
   "outputs": [],
   "source": [
    "# if we simply use a very large number (1,000,000 for example), we don't need any library\n",
    "import math"
   ]
  },
  {
   "cell_type": "code",
   "execution_count": 2,
   "metadata": {},
   "outputs": [],
   "source": [
    "# define a game class to return state and all actions at that state\n",
    "class CountGame:\n",
    "    def __init__(self, goal):\n",
    "        self.goal = goal\n",
    "        \n",
    "    def state(self):\n",
    "        return self.goal\n",
    "    \n",
    "    def is_end(self, state):\n",
    "        return state == self.goal\n",
    "    \n",
    "    def succ_and_cost(self, state):\n",
    "        output = []\n",
    "        if state <= self.goal // 2:\n",
    "            output.append(('tram', state * 2, 2))\n",
    "        if state < self.goal:\n",
    "            output.append(('walk', state + 1, 1))\n",
    "        return output"
   ]
  },
  {
   "cell_type": "code",
   "execution_count": 3,
   "metadata": {},
   "outputs": [],
   "source": [
    "# recursion method - brute force\n",
    "def recursion(problem):\n",
    "    result = {\n",
    "        'cost': math.inf,\n",
    "        'history': []\n",
    "    }\n",
    "    def recurse(state, history, total_cost):\n",
    "        if problem.is_end(state):    # return if reach end state\n",
    "            if total_cost < result['cost']:    # update best result if total cost is lower\n",
    "                result['cost'] = total_cost\n",
    "                result['history'] = history\n",
    "            return\n",
    "        for action, new_state, cost in game.succ_and_cost(state):\n",
    "            next_history = history + [(action, new_state, total_cost + cost)]\n",
    "            recurse(new_state, next_history, total_cost + cost)\n",
    "    \n",
    "    recurse(1, [], 0)\n",
    "    return result"
   ]
  },
  {
   "cell_type": "code",
   "execution_count": 4,
   "metadata": {},
   "outputs": [
    {
     "name": "stdout",
     "output_type": "stream",
     "text": [
      "CPU times: user 6.5 s, sys: 10.9 ms, total: 6.51 s\n",
      "Wall time: 6.52 s\n"
     ]
    },
    {
     "data": {
      "text/plain": [
       "{'cost': 15,\n",
       " 'history': [('walk', 2, 1),\n",
       "  ('walk', 3, 2),\n",
       "  ('tram', 6, 4),\n",
       "  ('tram', 12, 6),\n",
       "  ('tram', 24, 8),\n",
       "  ('walk', 25, 9),\n",
       "  ('tram', 50, 11),\n",
       "  ('tram', 100, 13),\n",
       "  ('tram', 200, 15)]}"
      ]
     },
     "execution_count": 4,
     "metadata": {},
     "output_type": "execute_result"
    }
   ],
   "source": [
    "%%time\n",
    "game = CountGame(200)\n",
    "recursion(game)"
   ]
  },
  {
   "cell_type": "markdown",
   "metadata": {},
   "source": [
    "### takes more than 6 seconds for 200! Can we do better?"
   ]
  },
  {
   "cell_type": "code",
   "execution_count": 5,
   "metadata": {},
   "outputs": [],
   "source": [
    "# introducing \"future_cost\" that depend on state only\n",
    "def dynamic_programming(problem):\n",
    "    cashe = {}    # store calculated items in cashe to save computation time\n",
    "    result = {\n",
    "        'cost': math.inf,\n",
    "        'history': []\n",
    "    }\n",
    "    def future_cost(state):\n",
    "        if cashe.get(state):\n",
    "            return cashe[state]\n",
    "        if problem.is_end(state):\n",
    "            return 0, []\n",
    "        # minor change to trace action history and store in cashe\n",
    "        tot_cost = math.inf\n",
    "        for action, new_state, cost in problem.succ_and_cost(state):\n",
    "            f_cost, new_history = future_cost(new_state)\n",
    "            if cost + f_cost < tot_cost:\n",
    "                tot_cost = cost + f_cost\n",
    "                next_action = [(action, new_state, tot_cost)] + new_history\n",
    "        cashe[state] = tot_cost, next_action\n",
    "        # original code in lecutre video, action history is not output\n",
    "        # cashe[state] = min(cost + future_cost(new_state) \\\n",
    "        #                    for action, new_state, cost in problem.succ_and_cost(state))\n",
    "        return cashe[state]\n",
    "    result['cost'], result['history'] = future_cost(1)\n",
    "    return result"
   ]
  },
  {
   "cell_type": "code",
   "execution_count": 6,
   "metadata": {},
   "outputs": [
    {
     "name": "stdout",
     "output_type": "stream",
     "text": [
      "CPU times: user 4.78 ms, sys: 756 µs, total: 5.54 ms\n",
      "Wall time: 5.51 ms\n"
     ]
    },
    {
     "data": {
      "text/plain": [
       "{'cost': 22,\n",
       " 'history': [('walk', 2, 22),\n",
       "  ('walk', 3, 21),\n",
       "  ('tram', 6, 20),\n",
       "  ('walk', 7, 18),\n",
       "  ('tram', 14, 17),\n",
       "  ('walk', 15, 15),\n",
       "  ('tram', 30, 14),\n",
       "  ('walk', 31, 12),\n",
       "  ('tram', 62, 11),\n",
       "  ('tram', 124, 9),\n",
       "  ('walk', 125, 7),\n",
       "  ('tram', 250, 6),\n",
       "  ('tram', 500, 4),\n",
       "  ('tram', 1000, 2)]}"
      ]
     },
     "execution_count": 6,
     "metadata": {},
     "output_type": "execute_result"
    }
   ],
   "source": [
    "%%time\n",
    "game = CountGame(1000)\n",
    "dynamic_programming(game)"
   ]
  },
  {
   "cell_type": "markdown",
   "metadata": {},
   "source": [
    "### and now it takes less than 9 ms for 1000"
   ]
  },
  {
   "cell_type": "code",
   "execution_count": null,
   "metadata": {},
   "outputs": [],
   "source": []
  }
 ],
 "metadata": {
  "kernelspec": {
   "display_name": "myenv",
   "language": "python",
   "name": "myenv"
  },
  "language_info": {
   "codemirror_mode": {
    "name": "ipython",
    "version": 3
   },
   "file_extension": ".py",
   "mimetype": "text/x-python",
   "name": "python",
   "nbconvert_exporter": "python",
   "pygments_lexer": "ipython3",
   "version": "3.7.9"
  }
 },
 "nbformat": 4,
 "nbformat_minor": 4
}
