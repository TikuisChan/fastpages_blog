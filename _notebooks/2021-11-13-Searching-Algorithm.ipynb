{
 "cells": [
  {
   "cell_type": "markdown",
   "metadata": {},
   "source": [
    "# Searching Algorithm\n",
    "- categories: [Python, SearchingAlgorithm]"
   ]
  },
  {
   "cell_type": "markdown",
   "metadata": {},
   "source": [
    "### Defining a searching problem\n",
    "\n",
    "- can either \"walk\" or \"tram\" on each state\n",
    "- when choose \"walk\", count add 1 and cost add 1\n",
    "- when choose \"tram\", count multiply by 2 and cost add 2"
   ]
  },
  {
   "cell_type": "code",
   "execution_count": 1,
   "metadata": {},
   "outputs": [],
   "source": [
    "# define a game class to return state and all actions at that state\n",
    "class CountGame:\n",
    "    def __init__(self, goal):\n",
    "        self.goal = goal\n",
    "        \n",
    "    def state(self):\n",
    "        return self.goal\n",
    "    \n",
    "    def is_end(self, state):\n",
    "        return state == self.goal\n",
    "    \n",
    "    def succ_and_cost(self, state):\n",
    "        output = []\n",
    "        if state <= self.goal // 2:\n",
    "            output.append(('tram', state * 2, 2))\n",
    "        if state < self.goal:\n",
    "            output.append(('walk', state + 1, 1))\n",
    "        return output"
   ]
  },
  {
   "cell_type": "markdown",
   "metadata": {},
   "source": [
    "### recursion method - brute force"
   ]
  },
  {
   "cell_type": "code",
   "execution_count": 2,
   "metadata": {},
   "outputs": [],
   "source": [
    "import math"
   ]
  },
  {
   "cell_type": "code",
   "execution_count": 3,
   "metadata": {},
   "outputs": [],
   "source": [
    "def recursion(problem):\n",
    "    result = {\n",
    "        'cost': math.inf,    # we can also use a very large number (1,000,000 for example) instead\n",
    "        'history': []\n",
    "    }\n",
    "    def recurse(state, history, total_cost):\n",
    "        if problem.is_end(state):    # return if reach end state\n",
    "            if total_cost < result['cost']:    # update best result if total cost is lower\n",
    "                result['cost'] = total_cost\n",
    "                result['history'] = history\n",
    "            return\n",
    "        for action, new_state, cost in game.succ_and_cost(state):\n",
    "            next_history = history + [(action, new_state, total_cost + cost)]\n",
    "            recurse(new_state, next_history, total_cost + cost)\n",
    "    \n",
    "    recurse(1, [], 0)\n",
    "    return result"
   ]
  },
  {
   "cell_type": "code",
   "execution_count": 4,
   "metadata": {},
   "outputs": [
    {
     "name": "stdout",
     "output_type": "stream",
     "text": [
      "CPU times: user 6.65 s, sys: 18.8 ms, total: 6.67 s\n",
      "Wall time: 6.69 s\n"
     ]
    },
    {
     "data": {
      "text/plain": [
       "{'cost': 15,\n",
       " 'history': [('walk', 2, 1),\n",
       "  ('walk', 3, 2),\n",
       "  ('tram', 6, 4),\n",
       "  ('tram', 12, 6),\n",
       "  ('tram', 24, 8),\n",
       "  ('walk', 25, 9),\n",
       "  ('tram', 50, 11),\n",
       "  ('tram', 100, 13),\n",
       "  ('tram', 200, 15)]}"
      ]
     },
     "execution_count": 4,
     "metadata": {},
     "output_type": "execute_result"
    }
   ],
   "source": [
    "%%time\n",
    "game = CountGame(200)\n",
    "recursion(game)"
   ]
  },
  {
   "cell_type": "markdown",
   "metadata": {},
   "source": [
    "It takes more than 6 seconds to search for best path towards 200..."
   ]
  },
  {
   "cell_type": "markdown",
   "metadata": {},
   "source": [
    "### Dynamic programming"
   ]
  },
  {
   "cell_type": "code",
   "execution_count": 5,
   "metadata": {},
   "outputs": [],
   "source": [
    "# introducing \"future_cost\" that depend on state only\n",
    "def dynamic_programming(problem):\n",
    "    cashe = {}    # store calculated items in cashe to save computation time\n",
    "    result = {\n",
    "        'cost': math.inf,\n",
    "        'history': []\n",
    "    }\n",
    "    def future_cost(state):\n",
    "        if cashe.get(state):\n",
    "            return cashe[state]\n",
    "        if problem.is_end(state):\n",
    "            return 0, []\n",
    "        # minor change to trace action history and store in cashe\n",
    "        tot_cost = math.inf\n",
    "        for action, new_state, cost in problem.succ_and_cost(state):\n",
    "            f_cost, new_history = future_cost(new_state)\n",
    "            if cost + f_cost < tot_cost:\n",
    "                tot_cost = cost + f_cost\n",
    "                next_action = [(action, new_state, tot_cost)] + new_history\n",
    "        cashe[state] = tot_cost, next_action\n",
    "        # original code in lecutre video, action history is not output\n",
    "        # cashe[state] = min(cost + future_cost(new_state) \\\n",
    "        #                    for action, new_state, cost in problem.succ_and_cost(state))\n",
    "        return cashe[state]\n",
    "    result['cost'], result['history'] = future_cost(1)\n",
    "    return result"
   ]
  },
  {
   "cell_type": "code",
   "execution_count": 6,
   "metadata": {},
   "outputs": [
    {
     "name": "stdout",
     "output_type": "stream",
     "text": [
      "CPU times: user 4.49 ms, sys: 1.07 ms, total: 5.56 ms\n",
      "Wall time: 5.3 ms\n"
     ]
    },
    {
     "data": {
      "text/plain": [
       "{'cost': 22,\n",
       " 'history': [('walk', 2, 22),\n",
       "  ('walk', 3, 21),\n",
       "  ('tram', 6, 20),\n",
       "  ('walk', 7, 18),\n",
       "  ('tram', 14, 17),\n",
       "  ('walk', 15, 15),\n",
       "  ('tram', 30, 14),\n",
       "  ('walk', 31, 12),\n",
       "  ('tram', 62, 11),\n",
       "  ('tram', 124, 9),\n",
       "  ('walk', 125, 7),\n",
       "  ('tram', 250, 6),\n",
       "  ('tram', 500, 4),\n",
       "  ('tram', 1000, 2)]}"
      ]
     },
     "execution_count": 6,
     "metadata": {},
     "output_type": "execute_result"
    }
   ],
   "source": [
    "%%time\n",
    "game = CountGame(1000)\n",
    "dynamic_programming(game)"
   ]
  },
  {
   "cell_type": "markdown",
   "metadata": {},
   "source": [
    "much faster. But will exceed the recursion limit when search up to 10,000"
   ]
  },
  {
   "cell_type": "markdown",
   "metadata": {},
   "source": [
    "### Uniform search\n",
    "\n",
    "Define data structure to store the frontier and explored nodes"
   ]
  },
  {
   "cell_type": "code",
   "execution_count": 25,
   "metadata": {},
   "outputs": [],
   "source": [
    "class UniformSearchFrontier:\n",
    "    def __init__(self):\n",
    "        self.frontier = []\n",
    "        \n",
    "    def update(self, previous_state, action, new_state, cost):\n",
    "        new_frontier = []\n",
    "        for ps, a, ns, c in self.frontier:\n",
    "            if ns != new_state:\n",
    "                new_frontier.append((ps, a, ns, c))\n",
    "                continue\n",
    "            if c <= cost:    # if cost is larger than the cost already in frontier => do nothing\n",
    "                return \n",
    "\n",
    "        self.frontier = new_frontier\n",
    "\n",
    "        # else pop the state from original frontier and insert new state\n",
    "        cost_list = [x[3] for x in self.frontier]\n",
    "        insert_pos = self.find_insert_index(cost, cost_list)\n",
    "        self.frontier = self.frontier[:insert_pos] + [(previous_state, action, new_state, cost)] + self.frontier[insert_pos:]\n",
    "\n",
    "    def find_insert_index(self, cost, sorted_list):    # binary search pos\n",
    "        if len(sorted_list) == 1:\n",
    "            return 1 if sorted_list[0] > cost else 0\n",
    "        if len(sorted_list) == 0:\n",
    "            return 0\n",
    "        index = len(sorted_list) // 2\n",
    "        if sorted_list[index] > cost:\n",
    "            return index + self.find_insert_index(cost, sorted_list[index:])\n",
    "        else:\n",
    "            return self.find_insert_index(cost, sorted_list[:index])\n",
    "\n",
    "    def pop_min_item(self):\n",
    "        if not self.frontier:\n",
    "            raise ValueError('No frontier left.')\n",
    "        return self.frontier.pop()"
   ]
  },
  {
   "cell_type": "markdown",
   "metadata": {},
   "source": [
    "With the frontier data structure defined, the rest is quite straight forward."
   ]
  },
  {
   "cell_type": "code",
   "execution_count": 26,
   "metadata": {},
   "outputs": [],
   "source": [
    "def uniform_search(problem):\n",
    "    explored = {}\n",
    "    frontier = UniformSearchFrontier()\n",
    "    frontier.update(0, 'start', 1, 0)\n",
    "    while True:\n",
    "        previous_state, action, state, tot_cost = frontier.pop_min_item()\n",
    "        explored[state] = (previous_state, tot_cost, action)\n",
    "        if problem.is_end(state):\n",
    "            break\n",
    "        for action, new_state, cost in problem.succ_and_cost(state):\n",
    "            if new_state in explored:\n",
    "                continue\n",
    "            frontier.update(state, action, new_state, tot_cost + cost)\n",
    "        \n",
    "    result = []\n",
    "    s = problem.goal\n",
    "    while explored.get(s):\n",
    "        result.append((explored[s][2], s, explored[s][1]))\n",
    "        s = explored[s][0]\n",
    "    return result"
   ]
  },
  {
   "cell_type": "code",
   "execution_count": 27,
   "metadata": {},
   "outputs": [
    {
     "name": "stdout",
     "output_type": "stream",
     "text": [
      "CPU times: user 37.4 ms, sys: 1.72 ms, total: 39.1 ms\n",
      "Wall time: 37.9 ms\n"
     ]
    },
    {
     "data": {
      "text/plain": [
       "[('tram', 1000, 22),\n",
       " ('tram', 500, 20),\n",
       " ('tram', 250, 18),\n",
       " ('walk', 125, 16),\n",
       " ('tram', 124, 15),\n",
       " ('tram', 62, 13),\n",
       " ('walk', 31, 11),\n",
       " ('tram', 30, 10),\n",
       " ('walk', 15, 8),\n",
       " ('tram', 14, 7),\n",
       " ('walk', 7, 5),\n",
       " ('tram', 6, 4),\n",
       " ('walk', 3, 2),\n",
       " ('walk', 2, 1),\n",
       " ('start', 1, 0)]"
      ]
     },
     "execution_count": 27,
     "metadata": {},
     "output_type": "execute_result"
    }
   ],
   "source": [
    "%%time\n",
    "game = CountGame(1000)\n",
    "uniform_search(game)"
   ]
  },
  {
   "cell_type": "markdown",
   "metadata": {},
   "source": [
    "In this case uniform search is not restricted by recursion limit."
   ]
  },
  {
   "cell_type": "code",
   "execution_count": 24,
   "metadata": {},
   "outputs": [
    {
     "name": "stdout",
     "output_type": "stream",
     "text": [
      "CPU times: user 2min 51s, sys: 1.35 s, total: 2min 52s\n",
      "Wall time: 2min 53s\n"
     ]
    },
    {
     "data": {
      "text/plain": [
       "[('tram', 100000, 36),\n",
       " ('tram', 50000, 34),\n",
       " ('tram', 25000, 32),\n",
       " ('tram', 12500, 30),\n",
       " ('tram', 6250, 28),\n",
       " ('walk', 3125, 26),\n",
       " ('tram', 3124, 25),\n",
       " ('tram', 1562, 23),\n",
       " ('walk', 781, 21),\n",
       " ('tram', 780, 20),\n",
       " ('tram', 390, 18),\n",
       " ('walk', 195, 16),\n",
       " ('tram', 194, 15),\n",
       " ('walk', 97, 13),\n",
       " ('tram', 96, 12),\n",
       " ('tram', 48, 10),\n",
       " ('tram', 24, 8),\n",
       " ('tram', 12, 6),\n",
       " ('tram', 6, 4),\n",
       " ('walk', 3, 2),\n",
       " ('walk', 2, 1),\n",
       " ('start', 1, 0)]"
      ]
     },
     "execution_count": 24,
     "metadata": {},
     "output_type": "execute_result"
    }
   ],
   "source": [
    "%%time\n",
    "game = CountGame(100000)\n",
    "uniform_search(game)"
   ]
  },
  {
   "cell_type": "markdown",
   "metadata": {},
   "source": [
    "reference: \n",
    "- <a href=\"https://www.youtube.com/watch?v=aIsgJJYrlXk&ab_channel=stanfordonline\">Stanford CS221: AI (Autumn 2019)</a>"
   ]
  }
 ],
 "metadata": {
  "kernelspec": {
   "display_name": "myenv",
   "language": "python",
   "name": "myenv"
  },
  "language_info": {
   "codemirror_mode": {
    "name": "ipython",
    "version": 3
   },
   "file_extension": ".py",
   "mimetype": "text/x-python",
   "name": "python",
   "nbconvert_exporter": "python",
   "pygments_lexer": "ipython3",
   "version": "3.7.9"
  }
 },
 "nbformat": 4,
 "nbformat_minor": 4
}
