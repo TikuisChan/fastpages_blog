{
 "cells": [
  {
   "cell_type": "markdown",
   "metadata": {},
   "source": [
    "# Kaggle Lux AI Session 1 - Day 2 & 3\n",
    "- categories: [LuxAI, Kaggle]"
   ]
  },
  {
   "cell_type": "markdown",
   "metadata": {},
   "source": [
    "Highlight of some rules and my thoughts."
   ]
  },
  {
   "cell_type": "markdown",
   "metadata": {},
   "source": [
    "> Important: Both teams have complete information about the entire game state and will need to make use of that information to optimize resource collection, compete for scarce resources against the opponent, and build cities to gain points.\n",
    "\n",
    "Having complete information about the entire game is huge, we can consider strategy like avoiding opponent's base whatever."
   ]
  },
  {
   "cell_type": "markdown",
   "metadata": {},
   "source": [
    "> imoportant: Each competitor must program their own agent in their language of choice. Each turn, your agent gets 3 seconds to submit their actions, excess time is not saved across turns. In each game, you are given a pool of 60 seconds that is tapped into each time you go over a turn's 3-second limit. Upon using up all 60 seconds and going over the 3-second limit, your agent freezes and can no longer submit additional actions.\n",
    "\n",
    "Total action submition period is 60 seconds, and there is a 3-second limit each turn. I suppose that means computation time is 3 seconds max for each turn? May need a bit experinment on that."
   ]
  },
  {
   "cell_type": "markdown",
   "metadata": {},
   "source": [
    "> important: In order to prevent maps from favoring one player over another, it is guaranteed that maps are always symmetric by vertical or horizontal reflection.\n",
    "\n",
    "That means calculating one half of the map should be enough, might help in shortening the computation time each turn."
   ]
  },
  {
   "cell_type": "markdown",
   "metadata": {},
   "source": [
    "> important: There are 3 kinds of resources: Wood, Coal, and Uranium (in order of increasing fuel efficiency). These resources are collected by workers, then dropped off once a worker moves on top of a CityTile to then be converted into fuel for the city. Some resources require research points before they are possible to collect.\n",
    "\n",
    "Not sure how to get the research points, although coal and uranium are better resources, if the research point is too difficult to get, that is still not a very good duel. Will need some kind of margin to balance in late game."
   ]
  },
  {
   "cell_type": "markdown",
   "metadata": {},
   "source": [
    "> important: Wood in particular can regrow. Each turn, every wood tile's wood amount increases by 2.5% of its current wood amount rounded up. Wood tiles that have been depleted will not regrow. Only wood tiles with less than 500 wood will regrow.\n",
    "\n",
    "This is a big one, only wood is somehow an infinite resource. Controlling wood tile could affect the long run."
   ]
  },
  {
   "cell_type": "code",
   "execution_count": 7,
   "metadata": {},
   "outputs": [
    {
     "data": {
      "text/html": [
       "<div>\n",
       "<style scoped>\n",
       "    .dataframe tbody tr th:only-of-type {\n",
       "        vertical-align: middle;\n",
       "    }\n",
       "\n",
       "    .dataframe tbody tr th {\n",
       "        vertical-align: top;\n",
       "    }\n",
       "\n",
       "    .dataframe thead th {\n",
       "        text-align: right;\n",
       "    }\n",
       "</style>\n",
       "<table border=\"1\" class=\"dataframe\">\n",
       "  <thead>\n",
       "    <tr style=\"text-align: right;\">\n",
       "      <th></th>\n",
       "      <th>Resource Type</th>\n",
       "      <th>Research Points Pre-requisite</th>\n",
       "      <th>Fuel Value per Unit</th>\n",
       "      <th>Units Collected per Turn</th>\n",
       "    </tr>\n",
       "  </thead>\n",
       "  <tbody>\n",
       "    <tr>\n",
       "      <th>0</th>\n",
       "      <td>wood</td>\n",
       "      <td>0</td>\n",
       "      <td>1</td>\n",
       "      <td>20</td>\n",
       "    </tr>\n",
       "    <tr>\n",
       "      <th>1</th>\n",
       "      <td>coal</td>\n",
       "      <td>50</td>\n",
       "      <td>10</td>\n",
       "      <td>5</td>\n",
       "    </tr>\n",
       "    <tr>\n",
       "      <th>2</th>\n",
       "      <td>uranium</td>\n",
       "      <td>200</td>\n",
       "      <td>40</td>\n",
       "      <td>2</td>\n",
       "    </tr>\n",
       "  </tbody>\n",
       "</table>\n",
       "</div>"
      ],
      "text/plain": [
       "  Resource Type  Research Points Pre-requisite  Fuel Value per Unit  \\\n",
       "0          wood                              0                    1   \n",
       "1          coal                             50                   10   \n",
       "2       uranium                            200                   40   \n",
       "\n",
       "   Units Collected per Turn  \n",
       "0                        20  \n",
       "1                         5  \n",
       "2                         2  "
      ]
     },
     "execution_count": 7,
     "metadata": {},
     "output_type": "execute_result"
    }
   ],
   "source": [
    "#hide_input\n",
    "import pandas as pd\n",
    "\n",
    "df = pd.DataFrame([\n",
    "    {'Resource Type': 'wood', 'Research Points Pre-requisite': 0, 'Fuel Value per Unit': 1, 'Units Collected per Turn': 20},\n",
    "    {'Resource Type': 'coal', 'Research Points Pre-requisite': 50, 'Fuel Value per Unit': 10, 'Units Collected per Turn': 5},\n",
    "    {'Resource Type': 'uranium', 'Research Points Pre-requisite': 200, 'Fuel Value per Unit': 40, 'Units Collected per Turn': 2},\n",
    "])\n",
    "df"
   ]
  },
  {
   "cell_type": "markdown",
   "metadata": {},
   "source": [
    "For wood, each turn can collect 20 fuel value, 50 for coal and 80 for uranium. Convert to research point per increase in fuel value collection rate increase, 3/5 for wood to coal and 1/5 for coal to uranium. The marginal return seems obvious. But there might also be some map with large amount of coal and uranium but not much trees."
   ]
  },
  {
   "cell_type": "markdown",
   "metadata": {},
   "source": [
    "> important: After 360 turns the winner is whichever team has the most CityTiles on the map. If that is a tie, then whichever team has the most units owned on the board wins. If still a tie, the game is marked as a tie. A game may end early if a team no longer has any more Units or CityTiles. Then the other team wins.\n",
    "\n",
    "There are at most 360 turns, so the first goal should to survive that many of turn, resources more than that are considered as wasted. "
   ]
  },
  {
   "cell_type": "markdown",
   "metadata": {},
   "source": [
    "> important: Moreover, all units can carry raw resources gained from automatic mining or resource transfer. Workers are capped at 100 units of resources and Carts are capped at 2000 units of resources.\n",
    "\n",
    "Some advance stragy in resource managment, building a cart and build a worker, if build a cart, how much resource should it collect etc. don't want to bother it at the beginning."
   ]
  },
  {
   "cell_type": "markdown",
   "metadata": {},
   "source": [
    "> important: The Day/Night cycle consists of a 40 turn cycle, the first 30 turns being day turns, the last 10 being night turns. There are a total of 360 turns in a match, forming 9 cycles. During the night, Units and Cities need to produce light to survive. Each turn of night, each Unit and CityTile will consume an amount of fuel, see table below for rates. Units in particular will use their carried resources to produce light whereas CityTiles will use their fuel to produce light.\n",
    "\n",
    "The most important part of the game. Unil automatically disappear if resources is too low, stragies like asking worker to go back to cityTile close to night might be needed later."
   ]
  },
  {
   "cell_type": "markdown",
   "metadata": {},
   "source": []
  }
 ],
 "metadata": {
  "kernelspec": {
   "display_name": "myenv",
   "language": "python",
   "name": "myenv"
  },
  "language_info": {
   "codemirror_mode": {
    "name": "ipython",
    "version": 3
   },
   "file_extension": ".py",
   "mimetype": "text/x-python",
   "name": "python",
   "nbconvert_exporter": "python",
   "pygments_lexer": "ipython3",
   "version": "3.7.9"
  }
 },
 "nbformat": 4,
 "nbformat_minor": 4
}
