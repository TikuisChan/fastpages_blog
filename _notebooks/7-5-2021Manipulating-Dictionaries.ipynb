{
 "cells": [
  {
   "cell_type": "markdown",
   "metadata": {},
   "source": [
    "# Maniplating Dictionaries"
   ]
  },
  {
   "cell_type": "markdown",
   "metadata": {},
   "source": [
    "While working on data extraction and cleansing, oftenly we play with dictionary form data. And there are different ways to handle according to different needs. In this post I will cover several use case I met."
   ]
  },
  {
   "cell_type": "markdown",
   "metadata": {},
   "source": [
    "### Simple dictionary:"
   ]
  },
  {
   "cell_type": "code",
   "execution_count": 7,
   "metadata": {},
   "outputs": [],
   "source": [
    "data = {\n",
    "    'a': 1,\n",
    "    'b': 1,\n",
    "    'c': 1,\n",
    "    'd': 1,\n",
    "    'e': 1,\n",
    "    'f': 3,\n",
    "    'g': 1,\n",
    "    'h': 1,\n",
    "    'i': 1,\n",
    "    'j': 1,\n",
    "    'k': 1,\n",
    "}"
   ]
  },
  {
   "cell_type": "markdown",
   "metadata": {},
   "source": [
    "#### Delete item with conditions:\n",
    "\n",
    "If we need to screen through every values in a dictionary, and drop according to some conditions, we can use a for loop with a copy of the dictionary (we cannot drop item while running through the loop!)."
   ]
  },
  {
   "cell_type": "code",
   "execution_count": 6,
   "metadata": {},
   "outputs": [
    {
     "ename": "RuntimeError",
     "evalue": "dictionary changed size during iteration",
     "output_type": "error",
     "traceback": [
      "\u001b[0;31m---------------------------------------------------------------------------\u001b[0m",
      "\u001b[0;31mRuntimeError\u001b[0m                              Traceback (most recent call last)",
      "\u001b[0;32m<ipython-input-6-387841d80c9f>\u001b[0m in \u001b[0;36m<module>\u001b[0;34m\u001b[0m\n\u001b[0;32m----> 1\u001b[0;31m \u001b[0;32mfor\u001b[0m \u001b[0mk\u001b[0m\u001b[0;34m,\u001b[0m \u001b[0mv\u001b[0m \u001b[0;32min\u001b[0m \u001b[0mdata\u001b[0m\u001b[0;34m.\u001b[0m\u001b[0mitems\u001b[0m\u001b[0;34m(\u001b[0m\u001b[0;34m)\u001b[0m\u001b[0;34m:\u001b[0m\u001b[0;34m\u001b[0m\u001b[0;34m\u001b[0m\u001b[0m\n\u001b[0m\u001b[1;32m      2\u001b[0m     \u001b[0;32mif\u001b[0m \u001b[0mk\u001b[0m \u001b[0;34m==\u001b[0m \u001b[0;34m'e'\u001b[0m\u001b[0;34m:\u001b[0m\u001b[0;34m\u001b[0m\u001b[0;34m\u001b[0m\u001b[0m\n\u001b[1;32m      3\u001b[0m         \u001b[0mdata\u001b[0m\u001b[0;34m.\u001b[0m\u001b[0mpop\u001b[0m\u001b[0;34m(\u001b[0m\u001b[0mk\u001b[0m\u001b[0;34m)\u001b[0m\u001b[0;34m\u001b[0m\u001b[0;34m\u001b[0m\u001b[0m\n",
      "\u001b[0;31mRuntimeError\u001b[0m: dictionary changed size during iteration"
     ]
    }
   ],
   "source": [
    "# dict.items() method return (key, value) form in a for loop.\n",
    "for k, v in data.items():\n",
    "    if k == 'e':\n",
    "        data.pop(k)"
   ]
  },
  {
   "cell_type": "code",
   "execution_count": 11,
   "metadata": {},
   "outputs": [],
   "source": [
    "from copy import copy\n",
    "\n",
    "\n",
    "loop_data = copy(data)\n",
    "for k, v in loop_data.items():\n",
    "    if v == 3:\n",
    "        data.pop(k)"
   ]
  },
  {
   "cell_type": "code",
   "execution_count": 12,
   "metadata": {},
   "outputs": [
    {
     "data": {
      "text/plain": [
       "{'a': 1,\n",
       " 'b': 1,\n",
       " 'c': 1,\n",
       " 'd': 1,\n",
       " 'e': 1,\n",
       " 'g': 1,\n",
       " 'h': 1,\n",
       " 'i': 1,\n",
       " 'j': 1,\n",
       " 'k': 1}"
      ]
     },
     "execution_count": 12,
     "metadata": {},
     "output_type": "execute_result"
    }
   ],
   "source": [
    "data"
   ]
  },
  {
   "cell_type": "markdown",
   "metadata": {},
   "source": [
    "So now consider we have a list of dictionaries with different contents, and we know that one of the field have to be dropped before passing to the next function. (For example, next function will batch upload data to database, and we are going to write a data cleansing function to screen out useless information.)"
   ]
  },
  {
   "cell_type": "code",
   "execution_count": 14,
   "metadata": {},
   "outputs": [
    {
     "name": "stdout",
     "output_type": "stream",
     "text": [
      "before\n",
      "[{'a': 1, 'delete_field': 2, 'c': 3}, {'a': 1, 'delete_field': 2, 'c': 3}, {'a': 1, 'delete_field': 2, 'c': 3}, {'a': 1, 'delete_field': 2, 'c': 3}]\n",
      "after\n",
      "[{'a': 1, 'c': 3}, {'a': 1, 'c': 3}, {'a': 1, 'c': 3}, {'a': 1, 'c': 3}]\n"
     ]
    }
   ],
   "source": [
    "sub_data = {'a': 1, 'delete_field': 2, 'c': 3}\n",
    "data = [sub_data for _ in range(4)]\n",
    "print('before')\n",
    "print(data)\n",
    "\n",
    "for item in data:\n",
    "    if 'delete_field' in item:\n",
    "        item.pop('delete_field')\n",
    "        \n",
    "print('after')\n",
    "print(data)"
   ]
  },
  {
   "cell_type": "markdown",
   "metadata": {},
   "source": [
    "Another possibility is that only remove field if it is 'None'."
   ]
  },
  {
   "cell_type": "code",
   "execution_count": 16,
   "metadata": {},
   "outputs": [
    {
     "name": "stdout",
     "output_type": "stream",
     "text": [
      "before\n",
      "[{'a': 1, 'delete_field': None, 'c': 3}, {'a': 1, 'delete_field': None, 'c': 3}, {'a': 1, 'delete_field': None, 'c': 3}, {'a': 1, 'delete_field': None, 'c': 3}]\n",
      "after\n",
      "[{'a': 1, 'c': 3}, {'a': 1, 'c': 3}, {'a': 1, 'c': 3}, {'a': 1, 'c': 3}]\n"
     ]
    }
   ],
   "source": [
    "sub_data = {'a': 1, 'delete_field': None, 'c': 3}\n",
    "data = [sub_data for _ in range(4)]\n",
    "print('before')\n",
    "print(data)\n",
    "\n",
    "# now we have to loop through the dict to check each value\n",
    "# use .items() to expend key and value, and use if v is None to check the value\n",
    "# if we use \"if v:\" then field with empty string and 0 will also be removed (both 0 and '' are considered as 'not v')\n",
    "for item in data:\n",
    "    for k, v in copy(item).items():\n",
    "        if v is None:\n",
    "            item.pop(k)\n",
    "            \n",
    "print('after')\n",
    "print(data)"
   ]
  },
  {
   "cell_type": "markdown",
   "metadata": {},
   "source": [
    "We can also try to create a clean data from a messy one."
   ]
  },
  {
   "cell_type": "code",
   "execution_count": 21,
   "metadata": {},
   "outputs": [
    {
     "name": "stdout",
     "output_type": "stream",
     "text": [
      "before\n",
      "[{'a': 1, 'delete_field': None, 'c': 3, 'd': 6, 'e': None, 'f': 3}, {'a': 1, 'delete_field': None, 'c': 3, 'd': 6, 'e': None, 'f': 3}, {'a': 1, 'delete_field': None, 'c': 3, 'd': 6, 'e': None, 'f': 3}, {'a': 1, 'delete_field': None, 'c': 3, 'd': 6, 'e': None, 'f': 3}, {'e': 'a'}, {'c': 0}]\n",
      "after\n",
      "[{'a': 1, 'c': 3}, {'a': 1, 'c': 3}, {'a': 1, 'c': 3}, {'a': 1, 'c': 3}, {'e': 'a'}, {'c': 0}]\n"
     ]
    }
   ],
   "source": [
    "sub_data = {'a': 1, 'delete_field': None, 'c': 3, 'd': 6, 'e': None, 'f': 3}\n",
    "data = [sub_data for _ in range(4)] + [{'e': 'a'}] + [{'c': 0}]\n",
    "print('before')\n",
    "print(data)\n",
    "\n",
    "# if we need 'a', 'c' and 'e' only\n",
    "# also we don't want field with value 'None'\n",
    "output = []\n",
    "for item in data:\n",
    "    sub_output = {}\n",
    "    for k in ['a', 'c', 'e']:\n",
    "        if item.get(k) is not None:    # we have to put is not None here otherwise {'c': 0} will be dropped\n",
    "            sub_output[k] = item[k]\n",
    "    if sub_output:\n",
    "        output.append(sub_output)\n",
    "        \n",
    "print('after')\n",
    "print(output)"
   ]
  }
 ],
 "metadata": {
  "kernelspec": {
   "display_name": "myenv",
   "language": "python",
   "name": "myenv"
  },
  "language_info": {
   "codemirror_mode": {
    "name": "ipython",
    "version": 3
   },
   "file_extension": ".py",
   "mimetype": "text/x-python",
   "name": "python",
   "nbconvert_exporter": "python",
   "pygments_lexer": "ipython3",
   "version": "3.7.9"
  }
 },
 "nbformat": 4,
 "nbformat_minor": 4
}
