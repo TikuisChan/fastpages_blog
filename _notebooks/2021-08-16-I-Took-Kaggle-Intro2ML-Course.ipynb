{
 "cells": [
  {
   "cell_type": "markdown",
   "metadata": {},
   "source": [
    "# I Took Kaggle Introduction to Machine Learning Course and Here is What I've Learnt\n",
    "- categories: [MachineLearning, Kaggle]"
   ]
  },
  {
   "cell_type": "markdown",
   "metadata": {},
   "source": [
    "<a href=\"www.kaggle.com\">Kaggle</a> held a <a href=\"https://www.kaggle.com/thirty-days-of-ml\">30 days of ML challenge</a> aimming to help people to get start with Data Science and Machine Learning (\"Machine learning beginner → Kaggle competitor in 30 days. Non-coders welcome.\" they claimed). During the challenge Kaggle will send an email to participants everyday assiging a task (maybe read a tutorial or finish an exercise). At the first 14 days are the <a href=\"https://www.kaggle.com/learn/python\">Python</a>, <a href=\"https://www.kaggle.com/learn/intro-to-machine-learning\">Intro to Machine Learning</a> and <a href=\"https://www.kaggle.com/learn/intermediate-machine-learning\">Intermediate Machine Learning</a>. In this blog I will share what I've learnt in the Intro to Machine Learning course of Kaggle."
   ]
  },
  {
   "cell_type": "markdown",
   "metadata": {},
   "source": [
    "### Spoilar: If you 100% know what the following codes doing, you could skip this course."
   ]
  },
  {
   "cell_type": "code",
   "execution_count": null,
   "metadata": {},
   "outputs": [],
   "source": [
    "#collapse\n",
    "# The following codes are directly from kaggle, please visit the intro to machine learning course for more details\n",
    "\n",
    "# Import helpful libraries\n",
    "import pandas as pd\n",
    "from sklearn.ensemble import RandomForestRegressor\n",
    "from sklearn.metrics import mean_absolute_error\n",
    "from sklearn.model_selection import train_test_split\n",
    "\n",
    "# Load the data, and separate the target\n",
    "iowa_file_path = '../input/train.csv'\n",
    "home_data = pd.read_csv(iowa_file_path)\n",
    "y = home_data.SalePrice\n",
    "\n",
    "# Create X (After completing the exercise, you can return to modify this line!)\n",
    "features = ['LotArea', 'YearBuilt', '1stFlrSF', '2ndFlrSF', 'FullBath', 'BedroomAbvGr', 'TotRmsAbvGrd']\n",
    "\n",
    "# Select columns corresponding to features, and preview the data\n",
    "X = home_data[features]\n",
    "X.head()\n",
    "\n",
    "# Split into validation and training data\n",
    "train_X, val_X, train_y, val_y = train_test_split(X, y, random_state=1)\n",
    "\n",
    "# Define a random forest model\n",
    "rf_model = RandomForestRegressor(random_state=1)\n",
    "rf_model.fit(train_X, train_y)\n",
    "rf_val_predictions = rf_model.predict(val_X)\n",
    "rf_val_mae = mean_absolute_error(rf_val_predictions, val_y)\n",
    "\n",
    "print(\"Validation MAE for Random Forest Model: {:,.0f}\".format(rf_val_mae))"
   ]
  },
  {
   "cell_type": "markdown",
   "metadata": {},
   "source": [
    "## Who is this course for?\n",
    "\n",
    "This course, and the python course, are suitable for absolute beginners who have zero or very few coding experience or self-learner at the beginning stage who want some guidelines on how to start."
   ]
  },
  {
   "cell_type": "markdown",
   "metadata": {},
   "source": [
    "## How long does it take?\n",
    "\n",
    "According to Kaggle's description it takes 3 hours to finish, with some experiment / exploring I would say about a day or two to completely understand what's going on."
   ]
  },
  {
   "cell_type": "markdown",
   "metadata": {},
   "source": [
    "## One sentance summary of what to expected in this course\n",
    "\n",
    "A very soft introduction on how to build a machine learning model."
   ]
  },
  {
   "cell_type": "markdown",
   "metadata": {},
   "source": [
    "## Do I recommend it?\n",
    "\n",
    "I like the style of the course that it have tutorial page and exercises with some empty lines for students to fill in, which is much better than those \"just run all cells and you are done\" type notebooks. The level suit people with very few coding experiences and there are also summary at the end of the course, all those are very good for an absolute beginner. As a intro to Machine Learning this is a very good starting point.\n",
    "\n",
    "On the other hand, as a Data Scientist I focus more on how to tackle a problem (e.g. baseline model and feature extraction etc.), maybe a bit closer to the <a href=\"https://www.kaggle.com/learn/intro-to-ai-ethics\">AI Ethics</a> side of the story. \n",
    "\n",
    "In short, this course is a good introduction to machine learning technique, I will recommand to combine with some data science ethics concepts before starting your own data project. "
   ]
  },
  {
   "cell_type": "code",
   "execution_count": null,
   "metadata": {},
   "outputs": [],
   "source": []
  }
 ],
 "metadata": {
  "kernelspec": {
   "display_name": "myenv",
   "language": "python",
   "name": "myenv"
  },
  "language_info": {
   "codemirror_mode": {
    "name": "ipython",
    "version": 3
   },
   "file_extension": ".py",
   "mimetype": "text/x-python",
   "name": "python",
   "nbconvert_exporter": "python",
   "pygments_lexer": "ipython3",
   "version": "3.7.9"
  }
 },
 "nbformat": 4,
 "nbformat_minor": 4
}
