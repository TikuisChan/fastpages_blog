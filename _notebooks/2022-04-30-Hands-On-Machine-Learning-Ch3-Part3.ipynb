{
 "cells": [
  {
   "cell_type": "markdown",
   "metadata": {},
   "source": [
    "# Hands-on Machine Learning with Scikit-learn, Keras and Tensorflow - Ch3 (Part 3)\n",
    "- categories: [MachineLearning, Notes, Classification]"
   ]
  },
  {
   "cell_type": "markdown",
   "metadata": {},
   "source": [
    "### 1. Try to build a classifier for the MNIST dataset that achieves over 97% accuracy on the test set. Hint: the KNeighborsClassifier works quite well for this task; you just need to find good hyperparameter values (try a grid search on the weights and n_neighbors hyperparameters)."
   ]
  },
  {
   "cell_type": "code",
   "execution_count": 2,
   "metadata": {},
   "outputs": [],
   "source": [
    "from sklearn.datasets import fetch_openml\n",
    "import numpy as np\n",
    "\n",
    "\n",
    "mnist = fetch_openml('mnist_784', version=1)\n",
    "data, target = mnist.data, mnist.target\n",
    "x_train, y_train, x_test, y_test = data[:60000], target[:60000], data[60000:], target[60000:]"
   ]
  },
  {
   "cell_type": "code",
   "execution_count": 13,
   "metadata": {},
   "outputs": [
    {
     "name": "stdout",
     "output_type": "stream",
     "text": [
      "Fitting 5 folds for each of 16 candidates, totalling 80 fits\n"
     ]
    },
    {
     "data": {
      "text/plain": [
       "GridSearchCV(cv=5, estimator=KNeighborsClassifier(), n_jobs=-1,\n",
       "             param_grid={'n_neighbors': [2, 3, 4, 5, 6, 7, 8, 9],\n",
       "                         'weights': ['uniform', 'distance']},\n",
       "             scoring='balanced_accuracy', verbose=3)"
      ]
     },
     "execution_count": 13,
     "metadata": {},
     "output_type": "execute_result"
    }
   ],
   "source": [
    "# following the hint\n",
    "from sklearn.neighbors import KNeighborsClassifier\n",
    "from sklearn.model_selection import GridSearchCV\n",
    "\n",
    "param_grid = {\n",
    "    'weights': ['uniform', 'distance'],\n",
    "    'n_neighbors': [x for x in range(2, 10)]\n",
    "}\n",
    "\n",
    "\n",
    "knn = GridSearchCV(\n",
    "    KNeighborsClassifier(),\n",
    "    param_grid=param_grid,\n",
    "    n_jobs=-1,    # using all processors\n",
    "    cv=5,\n",
    "    scoring='balanced_accuracy',\n",
    "    verbose=3    # for display grid search msg (for multi-processing, I found the printout in the terminal...)\n",
    ")\n",
    "\n",
    "knn.fit(x_train, y_train)"
   ]
  },
  {
   "cell_type": "code",
   "execution_count": 15,
   "metadata": {},
   "outputs": [
    {
     "name": "stdout",
     "output_type": "stream",
     "text": [
      "Best parameters are: {'n_neighbors': 4, 'weights': 'distance'}\n",
      "Best training accuracy: 0.9711847422265611\n"
     ]
    }
   ],
   "source": [
    "print('Best parameters are:', knn.best_params_)\n",
    "print('Best training accuracy:', knn.best_score_)"
   ]
  },
  {
   "cell_type": "code",
   "execution_count": 16,
   "metadata": {},
   "outputs": [
    {
     "name": "stdout",
     "output_type": "stream",
     "text": [
      "Test accuracy: 0.9714\n"
     ]
    }
   ],
   "source": [
    "from sklearn.metrics import accuracy_score\n",
    "\n",
    "y_pred = knn.predict(x_test)\n",
    "print('Test accuracy:', accuracy_score(y_test, y_pred))"
   ]
  },
  {
   "cell_type": "code",
   "execution_count": 30,
   "metadata": {},
   "outputs": [
    {
     "name": "stdout",
     "output_type": "stream",
     "text": [
      "Fitting 5 folds for each of 6 candidates, totalling 30 fits\n"
     ]
    },
    {
     "data": {
      "text/plain": [
       "GridSearchCV(cv=5,\n",
       "             estimator=Pipeline(steps=[('standardscaler', StandardScaler()),\n",
       "                                       ('logisticregression',\n",
       "                                        LogisticRegression(max_iter=1000,\n",
       "                                                           random_state=2))]),\n",
       "             n_jobs=-1,\n",
       "             param_grid={'logisticregression__C': [0.001, 0.01, 0.1, 1, 10,\n",
       "                                                   100]},\n",
       "             scoring='balanced_accuracy', verbose=3)"
      ]
     },
     "execution_count": 30,
     "metadata": {},
     "output_type": "execute_result"
    }
   ],
   "source": [
    "# let's also try logistic regression\n",
    "from sklearn.linear_model import LogisticRegression\n",
    "from sklearn.preprocessing import StandardScaler\n",
    "from sklearn.pipeline import make_pipeline\n",
    "\n",
    "\n",
    "lr_param = {\n",
    "    'logisticregression__C': [10**x for x in range(-3, 3)]\n",
    "}\n",
    "model = make_pipeline(StandardScaler(), LogisticRegression(random_state=2, max_iter=1000))\n",
    "\n",
    "\n",
    "lr = GridSearchCV(\n",
    "    model,\n",
    "    param_grid=lr_param,\n",
    "    n_jobs=-1,    # using all processors\n",
    "    cv=5,\n",
    "    scoring='balanced_accuracy',\n",
    "    verbose=3    # for display grid search msg (not applicable with n_job?)\n",
    ")\n",
    "\n",
    "lr.fit(x_train, y_train)"
   ]
  },
  {
   "cell_type": "code",
   "execution_count": 60,
   "metadata": {},
   "outputs": [
    {
     "name": "stdout",
     "output_type": "stream",
     "text": [
      "Best parameter(C): 0.01\n",
      "Best score: 0.9213184132852655\n",
      "Test accuracy: 0.9263\n"
     ]
    }
   ],
   "source": [
    "# although the training time is much faster (~16 mins vs ~2 hr), the accuracy is not as good as KNN\n",
    "print('Best parameter(C):', lr.best_estimator_.get_params()['logisticregression__C'])\n",
    "print('Best score:', lr.best_score_)\n",
    "\n",
    "y_pred = lr.predict(x_test)\n",
    "print('Test accuracy:', accuracy_score(y_test, y_pred))"
   ]
  },
  {
   "cell_type": "code",
   "execution_count": 58,
   "metadata": {},
   "outputs": [
    {
     "name": "stdout",
     "output_type": "stream",
     "text": [
      "Fitting 5 folds for each of 2 candidates, totalling 10 fits\n"
     ]
    },
    {
     "data": {
      "text/plain": [
       "GridSearchCV(cv=5, estimator=RandomForestClassifier(random_state=2), n_jobs=-1,\n",
       "             param_grid={'max_depth': [29, 33], 'n_estimators': [1000]},\n",
       "             scoring='balanced_accuracy', verbose=3)"
      ]
     },
     "execution_count": 58,
     "metadata": {},
     "output_type": "execute_result"
    }
   ],
   "source": [
    "# let's also try Random Forest\n",
    "from sklearn.ensemble import RandomForestClassifier\n",
    "\n",
    "\n",
    "param_grid = {\n",
    "    'n_estimators': [100, 200, 500, 1000],\n",
    "    'max_depth': [x for x in range(5, 50)],\n",
    "}\n",
    "\n",
    "forest = GridSearchCV(\n",
    "    RandomForestClassifier(random_state=2),\n",
    "    param_grid=param_grid,\n",
    "    n_jobs=-1,    # using all processors\n",
    "    cv=5,\n",
    "    scoring='balanced_accuracy',\n",
    "    verbose=3    # for display grid search msg (for multi-processing, I found the printout in the terminal...)\n",
    ")\n",
    "\n",
    "forest.fit(x_train, y_train)"
   ]
  },
  {
   "cell_type": "code",
   "execution_count": 62,
   "metadata": {},
   "outputs": [
    {
     "name": "stdout",
     "output_type": "stream",
     "text": [
      "The best score: 0.9681889511727405\n",
      "with parameter: {'max_depth': 33, 'n_estimators': 1000}\n",
      "Test accuracy: 0.9711\n"
     ]
    }
   ],
   "source": [
    "print('The best score:', forest.best_score_)\n",
    "print('with parameter:', forest.best_params_)\n",
    "\n",
    "y_pred = forest.predict(x_test)\n",
    "print('Test accuracy:', accuracy_score(y_test, y_pred))"
   ]
  }
 ],
 "metadata": {
  "kernelspec": {
   "display_name": "myenv",
   "language": "python",
   "name": "myenv"
  },
  "language_info": {
   "codemirror_mode": {
    "name": "ipython",
    "version": 3
   },
   "file_extension": ".py",
   "mimetype": "text/x-python",
   "name": "python",
   "nbconvert_exporter": "python",
   "pygments_lexer": "ipython3",
   "version": "3.7.9"
  }
 },
 "nbformat": 4,
 "nbformat_minor": 4
}
