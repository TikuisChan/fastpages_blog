{
 "cells": [
  {
   "cell_type": "markdown",
   "metadata": {},
   "source": [
    "# I Took Kaggle Intermediate Machine Learning Course and Here is What I've Learnt\n",
    "- categories: [MachineLearning, Kaggle]"
   ]
  },
  {
   "cell_type": "markdown",
   "metadata": {},
   "source": [
    "\n",
    "<a href=\"www.kaggle.com\">Kaggle</a> held a <a href=\"https://www.kaggle.com/thirty-days-of-ml\">30 days of ML challenge</a> aimming to help people to get start with Data Science and Machine Learning (\"Machine learning beginner → Kaggle competitor in 30 days. Non-coders welcome.\" they claimed). During the challenge Kaggle will send an email to participants everyday assiging a task (maybe read a tutorial or finish an exercise). At the first 14 days are the <a href=\"https://www.kaggle.com/learn/python\">Python</a>, <a href=\"https://www.kaggle.com/learn/intro-to-machine-learning\">Intro to Machine Learning</a> and <a href=\"https://www.kaggle.com/learn/intermediate-machine-learning\">Intermediate Machine Learning</a>. In this blog I will share what I've learnt in the Intermediate Machine Learning course of Kaggle."
   ]
  },
  {
   "cell_type": "markdown",
   "metadata": {},
   "source": [
    "## Who is this course for?\n",
    "\n",
    "This intermediate course is for someone who know basic python and machine learning. i.e. someone have finished Python and Intro to Machine Learning course (or already know the content)."
   ]
  },
  {
   "cell_type": "markdown",
   "metadata": {},
   "source": [
    "## How long does it take?\n",
    "\n",
    "According to Kaggle's description it takes 4 hours to finish, with some experiment / exploring I would say about a day or two to completely understand what's going on."
   ]
  },
  {
   "cell_type": "markdown",
   "metadata": {},
   "source": [
    "## One sentance summary of what to expected in this course\n",
    "\n",
    "Introduction to a relatively complete Machine Learning work flow, from data cleansing to generate prediction."
   ]
  },
  {
   "cell_type": "markdown",
   "metadata": {},
   "source": [
    "## Do I recommend it?\n",
    "\n",
    "As an \"Intermediate Machine Learning\" course, I would say the content is not too intermediate. But considering it is a short course of 4 hours and a sequel of the Intro to Machine Learning course, this course does a decent job. Following the course students can build a complete machine learning pipeline with scikit learn and xgboost.\n",
    "\n",
    "One thing I did not get used to is that throughout the two courses they emphasis decision tree and gredient boosting, maybe comparing different models is more advance so that they decided to put it in advance machine learning course (if they have). Also as an \"intermediate\" course I expect to left more \"waiting for you to explore\" moment inside the pipeline for students who are interested, although I understand that as a short course of only 4 hours it may be not a good place to add too much content.\n",
    "\n",
    "To conclude I think this is a interesting course and I enjoy it (plus xgboost is new to me, surely I'd love to spend a bit more time to do some exploration). If you just finish the Intro Machine Learning Course, I highly recommend taking the intermediate machine learning course to complete the picture."
   ]
  },
  {
   "cell_type": "code",
   "execution_count": null,
   "metadata": {},
   "outputs": [],
   "source": []
  }
 ],
 "metadata": {
  "kernelspec": {
   "display_name": "myenv",
   "language": "python",
   "name": "myenv"
  },
  "language_info": {
   "codemirror_mode": {
    "name": "ipython",
    "version": 3
   },
   "file_extension": ".py",
   "mimetype": "text/x-python",
   "name": "python",
   "nbconvert_exporter": "python",
   "pygments_lexer": "ipython3",
   "version": "3.7.9"
  }
 },
 "nbformat": 4,
 "nbformat_minor": 4
}
