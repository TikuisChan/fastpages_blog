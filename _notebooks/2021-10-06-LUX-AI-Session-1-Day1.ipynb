{
 "cells": [
  {
   "cell_type": "markdown",
   "metadata": {},
   "source": [
    "# Kaggle Lux AI Session 1 - Day 1\n",
    "- categories: [LuxAI, Kaggle]"
   ]
  },
  {
   "cell_type": "markdown",
   "metadata": {},
   "source": [
    "The Lux AI Challenge of Kaggle is a 1v1 match in which each side have to gather resources from the map and expand CityTiles to win. The challenge will be held until December and you can check it out at <a href=\"https://www.kaggle.com/c/lux-ai-2021/overview\">here</a>. sentdex has a youtube walking through how he is doing in this compedition (I watched the first minutes and close immediately so that I can struggle for several more weeks) and you and find it <a href=\"https://www.youtube.com/watch?v=6_GXTbTL9Uc\">here</a>.\n",
    "\n",
    "At day 1 there is nothing special, just read through the introduction, learning how to use the API and try to follow the kaggle template for the first submittion (at least I submit once! yay!). The rules seems a bit long and I wil"
   ]
  },
  {
   "cell_type": "code",
   "execution_count": null,
   "metadata": {},
   "outputs": [],
   "source": []
  }
 ],
 "metadata": {
  "kernelspec": {
   "display_name": "myenv",
   "language": "python",
   "name": "myenv"
  },
  "language_info": {
   "codemirror_mode": {
    "name": "ipython",
    "version": 3
   },
   "file_extension": ".py",
   "mimetype": "text/x-python",
   "name": "python",
   "nbconvert_exporter": "python",
   "pygments_lexer": "ipython3",
   "version": "3.7.9"
  }
 },
 "nbformat": 4,
 "nbformat_minor": 4
}
