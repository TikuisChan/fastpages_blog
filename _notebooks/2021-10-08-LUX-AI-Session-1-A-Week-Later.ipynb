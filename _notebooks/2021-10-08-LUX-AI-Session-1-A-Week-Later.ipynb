{
 "cells": [
  {
   "cell_type": "markdown",
   "metadata": {},
   "source": [
    "# Kaggle Lux AI Session 1 - A Week Later\n",
    "- categories: [LuxAI, Kaggle]"
   ]
  },
  {
   "cell_type": "markdown",
   "metadata": {},
   "source": [
    "After the last <a href=\"https://tikuischan.github.io/fastpages_blog/luxai/kaggle/2021/10/08/LUX-AI-Session-1-Day2andDay3.html\">blog update</a> I started to modify <a href=\"https://www.kaggle.com/stonet2000/lux-ai-season-1-jupyter-notebook-quickstart\">the starter template by Stone TAO</a> for my own version of baseline and messing around a bit. \n",
    "\n",
    "The starter template the action is simple - ask the (initial) worker to go to the closest (and accessable) resources and come back to city when its pocket is full, repeatedly until the end of the world. So that the final score is always 1 (1 city) unless there are accident that the worker stucked somewhere, as there is no path finding algorithm in the template. So my attempt is to give it the ability to get more points and keep it simple and basic (actually I'd  love to see how far can basic algorithms go before switching to reinforcement learning or event deep reinforcement learning).\n",
    "\n",
    "So I marked the first worker as a special worker to build city, and set the building condition to be the amount of fuel of cities is high enough for the coming night (otherwise we will loss all cities immediately after the first night). The expension tile is any tile next to the first city and closest to the worker. Cities build worker whenever they could, and those new workers simply follow the basic algorithm to gather resources. The modification is not too bad at the very beginning, but soon workers start jamming, the supply chain stopped and eventually everything dies out(even the program bug out because there is no unit left to choose LOL). Another problem is that the workers automatically drop all resources when it reach a cityTile, sometimes (maybe half of the times) the building worker will drop all resources while moving to the new cityTile position.\n",
    "\n",
    "So I patch the script a bit:\n",
    "1. rewrite the \"path finding\" function, go another way or simply do not move if it cannot (just to stop the clashing alert)\n",
    "2. add \"barrier\" concept to the \"path finding\" function, conditionally add cityTile as barrier to avoid worker accidentially drop all resources while trying to build a new cityTile\n",
    "3. go for multiple resources (need review logic)\n",
    "\n",
    "Finally v0.18 seems good enough to beat the simple one base ai with a relatively high chance."
   ]
  }
 ],
 "metadata": {
  "kernelspec": {
   "display_name": "myenv",
   "language": "python",
   "name": "myenv"
  },
  "language_info": {
   "codemirror_mode": {
    "name": "ipython",
    "version": 3
   },
   "file_extension": ".py",
   "mimetype": "text/x-python",
   "name": "python",
   "nbconvert_exporter": "python",
   "pygments_lexer": "ipython3",
   "version": "3.7.9"
  }
 },
 "nbformat": 4,
 "nbformat_minor": 4
}
