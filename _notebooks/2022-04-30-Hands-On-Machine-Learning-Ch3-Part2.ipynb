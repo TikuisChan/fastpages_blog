{
 "cells": [
  {
   "cell_type": "markdown",
   "metadata": {},
   "source": [
    "# Hands-on Machine Learning with Scikit-learn, Keras and Tensorflow - Ch3 (Part 2)\n",
    "- categories: [MachineLearning, Notes, Classification]"
   ]
  },
  {
   "cell_type": "code",
   "execution_count": 1,
   "metadata": {},
   "outputs": [],
   "source": [
    "from sklearn.datasets import fetch_openml\n",
    "import numpy as np\n",
    "\n",
    "\n",
    "mnist = fetch_openml('mnist_784', version=1)"
   ]
  },
  {
   "cell_type": "code",
   "execution_count": 3,
   "metadata": {},
   "outputs": [],
   "source": [
    "data, target = mnist.data, mnist.target\n",
    "x_train, y_train, x_test, y_test = data[:60000], target[:60000], data[60000:], target[60000:]"
   ]
  },
  {
   "cell_type": "code",
   "execution_count": 11,
   "metadata": {},
   "outputs": [
    {
     "name": "stdout",
     "output_type": "stream",
     "text": [
      "The shape of weights of default SGD multi-class classifier is: (10, 784)\n",
      "There are 45 estimater in one vs one SGDClassifier.\n",
      "(1, 784)\n"
     ]
    }
   ],
   "source": [
    "from sklearn.linear_model import SGDClassifier\n",
    "from sklearn.multiclass import OneVsOneClassifier\n",
    "\n",
    "# sometime (very rarely) we might want to train a one vs one classifier instead of one vs all classifier\n",
    "sgd = SGDClassifier(random_state=2)\n",
    "sgd_ovo = OneVsOneClassifier(SGDClassifier(random_state=2))\n",
    "\n",
    "sgd.fit(x_train, y_train)\n",
    "sgd_ovo.fit(x_train, y_train)\n",
    "\n",
    "# SGDClassifier will automatically stack one vs all classifier while working with multi-class\n",
    "print('The shape of weights of default SGD multi-class classifier is:', sgd.coef_.shape)\n",
    "\n",
    "# training the classifier in a one vs one way means training '1' vs '2', '1' vs '3'... 45 estimators\n",
    "# prediction will pick the label winning the most in all estimators\n",
    "print('There are %d estimater in one vs one SGDClassifier.' % len(sgd_ovo.estimators_))\n",
    "print(sgd_ovo.estimators_[0].coef_.shape)"
   ]
  },
  {
   "cell_type": "markdown",
   "metadata": {},
   "source": [
    "Of course some classifier like decision tree can classify multi-class in its original form (different class are different leaf in the case of decision tree)."
   ]
  },
  {
   "cell_type": "code",
   "execution_count": 12,
   "metadata": {},
   "outputs": [],
   "source": [
    "from sklearn.preprocessing import StandardScaler\n",
    "import numpy as np\n",
    "\n",
    "\n",
    "scaler = StandardScaler()\n",
    "x_train_scaled = scaler.fit_transform(x_train)"
   ]
  },
  {
   "cell_type": "code",
   "execution_count": 16,
   "metadata": {},
   "outputs": [
    {
     "name": "stdout",
     "output_type": "stream",
     "text": [
      "without scaling, the accuracy is 0.872133 +/- 0.002477\n"
     ]
    },
    {
     "name": "stderr",
     "output_type": "stream",
     "text": [
      "/Users/sk/anaconda3/envs/myenv/lib/python3.7/site-packages/sklearn/linear_model/_stochastic_gradient.py:700: ConvergenceWarning: Maximum number of iteration reached before convergence. Consider increasing max_iter to improve the fit.\n",
      "  ConvergenceWarning,\n"
     ]
    },
    {
     "name": "stdout",
     "output_type": "stream",
     "text": [
      "with scaling, the accuracy is 0.897383 +/- 0.005675\n"
     ]
    }
   ],
   "source": [
    "from sklearn.model_selection import cross_val_score\n",
    "\n",
    "\n",
    "result = cross_val_score(SGDClassifier(random_state=2, n_jobs=-1), x_train, y_train, cv=3, scoring='accuracy')\n",
    "print('without scaling, the accuracy is %f +/- %f' % (result.mean(), result.std()))\n",
    "\n",
    "result2 = cross_val_score(SGDClassifier(random_state=2, n_jobs=-1), x_train_scaled, y_train, cv=3, scoring='accuracy')\n",
    "print('with scaling, the accuracy is %f +/- %f' % (result2.mean(), result2.std()))"
   ]
  },
  {
   "cell_type": "code",
   "execution_count": 24,
   "metadata": {},
   "outputs": [
    {
     "data": {
      "image/png": "[encoded data removed]",
      "text/plain": [
       "<Figure size 504x504 with 1 Axes>"
      ]
     },
     "metadata": {
      "needs_background": "light"
     },
     "output_type": "display_data"
    }
   ],
   "source": [
    "import matplotlib.pyplot as plt\n",
    "import matplotlib as mpt\n",
    "from sklearn.metrics import confusion_matrix\n",
    "from sklearn.model_selection import cross_val_predict\n",
    "\n",
    "\n",
    "# for error analysis, confusion matrix could help us analysis which class the model perform badly\n",
    "pred = cross_val_predict(sgd, x_train_scaled, y_train, cv=3, n_jobs=-1)\n",
    "confusion = confusion_matrix(y_train, pred)\n",
    "fig = plt.figure(figsize=(7, 7))\n",
    "plt.matshow(confusion, cmap=plt.cm.gray, fignum=fig.number)\n",
    "plt.show()"
   ]
  },
  {
   "cell_type": "code",
   "execution_count": 28,
   "metadata": {},
   "outputs": [
    {
     "data": {
      "image/png": "[encoded data removed]",
      "text/plain": [
       "<Figure size 504x504 with 1 Axes>"
      ]
     },
     "metadata": {
      "needs_background": "light"
     },
     "output_type": "display_data"
    }
   ],
   "source": [
    "# normalized by number of each class and remove the diagonal (True positive) element\n",
    "num_class = confusion.sum(axis=1, keepdims=True)\n",
    "cm_norm = confusion / num_class\n",
    "\n",
    "np.fill_diagonal(cm_norm, 0)\n",
    "fig = plt.figure(figsize=(7, 7))\n",
    "plt.matshow(cm_norm, cmap=plt.cm.gray, fignum=fig.number)\n",
    "plt.show()"
   ]
  },
  {
   "cell_type": "markdown",
   "metadata": {},
   "source": [
    "Now we can see that the model tends to mis-classify other sample as '8', while for the real '8's actually the model preforming okay. To improve the model, we can, for example, gather more samples looks like '8' or introducing new features helping the identify a non-'8' figure."
   ]
  },
  {
   "cell_type": "markdown",
   "metadata": {},
   "source": [
    "## Multilabel Classification\n",
    "\n",
    "Sometimes our task is not just identify the letter of the hand-written number, for example to identify multi-person's face in the picture, or to classify what topics a paragraph is about, in which the authors put the task as \"multilabel\" classification. In practice a simple solution is training one to all model for each label, and replace the picking the highest predict_proba to a threshold, and put the label on if the probability is higher than the threshold."
   ]
  },
  {
   "cell_type": "code",
   "execution_count": null,
   "metadata": {},
   "outputs": [],
   "source": []
  }
 ],
 "metadata": {
  "kernelspec": {
   "display_name": "myenv",
   "language": "python",
   "name": "myenv"
  },
  "language_info": {
   "codemirror_mode": {
    "name": "ipython",
    "version": 3
   },
   "file_extension": ".py",
   "mimetype": "text/x-python",
   "name": "python",
   "nbconvert_exporter": "python",
   "pygments_lexer": "ipython3",
   "version": "3.7.9"
  }
 },
 "nbformat": 4,
 "nbformat_minor": 4
}
